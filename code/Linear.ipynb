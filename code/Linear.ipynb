{
 "cells": [
  {
   "cell_type": "markdown",
   "id": "c19ff047",
   "metadata": {},
   "source": [
    "## python 函数参数"
   ]
  },
  {
   "cell_type": "code",
   "execution_count": 3,
   "id": "4fbe88d3",
   "metadata": {},
   "outputs": [
    {
     "name": "stdout",
     "output_type": "stream",
     "text": [
      "(1, 2, 4, 3)\n",
      "\n",
      "(1, 2, 4, 3)\n",
      "{'x': 5, 'y': 9}\n"
     ]
    }
   ],
   "source": [
    "def func1(*args, x, y):\n",
    "    print(args)\n",
    "\n",
    "def func2(*args, **kwargs):\n",
    "    print(args)\n",
    "    print(kwargs)\n",
    "\n",
    "func1(1,2,4,3,x=5,y=9)\n",
    "print()\n",
    "func2(1,2,4,3,x=5,y=9)"
   ]
  },
  {
   "cell_type": "markdown",
   "id": "a1b25aec",
   "metadata": {},
   "source": [
    "## python class __call__"
   ]
  },
  {
   "cell_type": "code",
   "execution_count": 5,
   "id": "eace7487",
   "metadata": {},
   "outputs": [],
   "source": [
    "class Foobar:\n",
    "    def __init__(self):\n",
    "        pass\n",
    "    \n",
    "    def __call__(self, *args, **kwargs):\n",
    "        print(\"Hello \" + str(args[0]))"
   ]
  },
  {
   "cell_type": "code",
   "execution_count": 6,
   "id": "897fecf1",
   "metadata": {},
   "outputs": [
    {
     "name": "stdout",
     "output_type": "stream",
     "text": [
      "Hello1\n"
     ]
    }
   ],
   "source": [
    "foobar = Foobar()\n",
    "foobar(1,2,3)"
   ]
  },
  {
   "cell_type": "markdown",
   "id": "ba0a5b7e",
   "metadata": {},
   "source": [
    "## pytorch线性模型"
   ]
  },
  {
   "cell_type": "code",
   "execution_count": 17,
   "id": "ac623b5d",
   "metadata": {},
   "outputs": [
    {
     "name": "stdout",
     "output_type": "stream",
     "text": [
      "1. prepare dataset\n",
      "2. design model using class\n",
      "3.construct loss and optimizer\n",
      "4. training cycle\n",
      "w =  1.8064852952957153\n",
      "b =  0.4399043321609497\n",
      "y_pred =  tensor([[7.6658]])\n"
     ]
    }
   ],
   "source": [
    "import torch\n",
    "\n",
    "# 1. prepare dataset\n",
    "print('1. prepare dataset')\n",
    "x_data = torch.Tensor([[1.0],[2.0],[3.0]])\n",
    "y_data = torch.Tensor([[2.0],[4.0],[6.0]])\n",
    "\n",
    "# 2. design model using class\n",
    "print('2. design model using class')\n",
    "class LinearModel(torch.nn.Module):\n",
    "    def __init__(self):\n",
    "        super(LinearModel, self).__init__()\n",
    "        self.linear = torch.nn.Linear(1,1)\n",
    "    \n",
    "    def forward(self, x):\n",
    "        y_pred = self.linear(x)\n",
    "        return y_pred\n",
    "model = LinearModel()\n",
    "\n",
    "# 3.construct loss and optimizer\n",
    "print('3.construct loss and optimizer')\n",
    "criterion = torch.nn.MSELoss(size_average = False)\n",
    "optimizer = torch.optim.SGD(model.parameters(), lr=0.01)\n",
    "\n",
    "# 4. training cycle\n",
    "print('4. training cycle')\n",
    "epoch_lst = list()\n",
    "loss_lst = list()\n",
    "for epoch in range(100):\n",
    "    y_pred = model(x_data)\n",
    "    loss = criterion(y_pred, y_data)\n",
    "#     print(epoch, loss.item())\n",
    "    epoch_lst.append(epoch)\n",
    "    loss_lst.append(loss.item())\n",
    "    \n",
    "    optimizer.zero_grad() # 导数置为0\n",
    "    loss.backward()\n",
    "    optimizer.step()\n",
    "\n",
    "print('w = ', model.linear.weight.item())\n",
    "print('b = ', model.linear.bias.item())\n",
    "\n",
    "x_test = torch.Tensor([[4.0]])\n",
    "y_test = model(x_test)\n",
    "print('y_pred = ', y_test.data)"
   ]
  },
  {
   "cell_type": "code",
   "execution_count": 6,
   "id": "389ced2f",
   "metadata": {},
   "outputs": [
    {
     "data": {
      "image/png": "[encoded data removed]",
      "text/plain": [
       "<Figure size 432x288 with 1 Axes>"
      ]
     },
     "metadata": {
      "needs_background": "light"
     },
     "output_type": "display_data"
    }
   ],
   "source": [
    "import matplotlib.pyplot as plt\n",
    "import numpy as np\n",
    "\n",
    "def show_loss(epoch_lst, loss_lst, optimizer):\n",
    "    fig, ax = plt.subplots()\n",
    "    ax.plot(epoch_lst, loss_lst)\n",
    "\n",
    "    ax.set(xlabel='epoch', ylabel='loss',\n",
    "           title='loss changing: '+optimizer)\n",
    "    ax.grid()\n",
    "\n",
    "    # fig.savefig(\"test.png\")\n",
    "    plt.show()\n",
    "\n",
    "show_loss(epoch_lst, loss_lst, 'Adagrad')"
   ]
  },
  {
   "cell_type": "code",
   "execution_count": 9,
   "id": "a1fdc2d2",
   "metadata": {},
   "outputs": [
    {
     "data": {
      "image/png": "[encoded data removed]",
      "text/plain": [
       "<Figure size 432x288 with 1 Axes>"
      ]
     },
     "metadata": {
      "needs_background": "light"
     },
     "output_type": "display_data"
    }
   ],
   "source": [
    "show_loss(epoch_lst, loss_lst, 'Adam')"
   ]
  },
  {
   "cell_type": "code",
   "execution_count": 11,
   "id": "1476c5c9",
   "metadata": {},
   "outputs": [
    {
     "data": {
      "image/png": "[encoded data removed]",
      "text/plain": [
       "<Figure size 432x288 with 1 Axes>"
      ]
     },
     "metadata": {
      "needs_background": "light"
     },
     "output_type": "display_data"
    }
   ],
   "source": [
    "show_loss(epoch_lst, loss_lst, 'Adamax')"
   ]
  },
  {
   "cell_type": "code",
   "execution_count": 13,
   "id": "790f2cb5",
   "metadata": {},
   "outputs": [
    {
     "data": {
      "image/png": "[encoded data removed]",
      "text/plain": [
       "<Figure size 432x288 with 1 Axes>"
      ]
     },
     "metadata": {
      "needs_background": "light"
     },
     "output_type": "display_data"
    }
   ],
   "source": [
    "show_loss(epoch_lst, loss_lst, 'ASGD')"
   ]
  },
  {
   "cell_type": "code",
   "execution_count": 16,
   "id": "da77bcbb",
   "metadata": {},
   "outputs": [
    {
     "data": {
      "image/png": "[encoded data removed]",
      "text/plain": [
       "<Figure size 432x288 with 1 Axes>"
      ]
     },
     "metadata": {
      "needs_background": "light"
     },
     "output_type": "display_data"
    }
   ],
   "source": [
    "show_loss(epoch_lst, loss_lst, 'RMSprop')"
   ]
  },
  {
   "cell_type": "code",
   "execution_count": 18,
   "id": "5b96c71a",
   "metadata": {},
   "outputs": [
    {
     "data": {
      "image/png": "[encoded data removed]",
      "text/plain": [
       "<Figure size 432x288 with 1 Axes>"
      ]
     },
     "metadata": {
      "needs_background": "light"
     },
     "output_type": "display_data"
    }
   ],
   "source": [
    "show_loss(epoch_lst, loss_lst, 'SGD')"
   ]
  },
  {
   "cell_type": "code",
   "execution_count": null,
   "id": "d6930576",
   "metadata": {},
   "outputs": [],
   "source": []
  },
  {
   "cell_type": "code",
   "execution_count": null,
   "id": "0de0f148",
   "metadata": {},
   "outputs": [],
   "source": []
  },
  {
   "cell_type": "code",
   "execution_count": 5,
   "id": "16023ae1",
   "metadata": {},
   "outputs": [
    {
     "name": "stdout",
     "output_type": "stream",
     "text": [
      "Looking in indexes: https://pypi.tuna.tsinghua.edu.cn/simple/\n",
      "Collecting visdom\n",
      "  Downloading https://pypi.tuna.tsinghua.edu.cn/packages/c9/75/e078f5a2e1df7e0d3044749089fc2823e62d029cc027ed8ae5d71fafcbdc/visdom-0.1.8.9.tar.gz (676 kB)\n",
      "     |████████████████████████████████| 676 kB 8.2 MB/s            \n",
      "\u001b[?25h  Preparing metadata (setup.py) ... \u001b[?25ldone\n",
      "\u001b[?25hRequirement already satisfied: numpy>=1.8 in /home/megstudio/workspace/.py/lib/python3.7/site-packages (from visdom) (1.19.5)\n",
      "Requirement already satisfied: scipy in /home/megstudio/.miniconda/envs/xuan/lib/python3.7/site-packages (from visdom) (1.7.1)\n",
      "Requirement already satisfied: requests in /home/megstudio/.miniconda/envs/xuan/lib/python3.7/site-packages (from visdom) (2.23.0)\n",
      "Requirement already satisfied: tornado in /home/megstudio/.miniconda/envs/xuan/lib/python3.7/site-packages (from visdom) (6.1)\n",
      "Requirement already satisfied: pyzmq in /home/megstudio/.miniconda/envs/xuan/lib/python3.7/site-packages (from visdom) (22.3.0)\n",
      "Requirement already satisfied: six in /home/megstudio/.miniconda/envs/xuan/lib/python3.7/site-packages (from visdom) (1.16.0)\n",
      "Collecting jsonpatch\n",
      "  Downloading https://pypi.tuna.tsinghua.edu.cn/packages/a3/55/f7c93bae36d869292aedfbcbae8b091386194874f16390d680136edd2b28/jsonpatch-1.32-py2.py3-none-any.whl (12 kB)\n",
      "Collecting torchfile\n",
      "  Downloading https://pypi.tuna.tsinghua.edu.cn/packages/91/af/5b305f86f2d218091af657ddb53f984ecbd9518ca9fe8ef4103a007252c9/torchfile-0.1.0.tar.gz (5.2 kB)\n",
      "  Preparing metadata (setup.py) ... \u001b[?25ldone\n",
      "\u001b[?25hRequirement already satisfied: websocket-client in /home/megstudio/.miniconda/envs/xuan/lib/python3.7/site-packages (from visdom) (1.2.1)\n",
      "Requirement already satisfied: pillow in /home/megstudio/.miniconda/envs/xuan/lib/python3.7/site-packages (from visdom) (8.4.0)\n",
      "Collecting jsonpointer>=1.9\n",
      "  Downloading https://pypi.tuna.tsinghua.edu.cn/packages/fe/38/6d04fe1f9bc0b5769cd2bb35868c862b59edbd2efcdb296671c9c982ef0f/jsonpointer-2.2-py2.py3-none-any.whl (7.5 kB)\n",
      "Requirement already satisfied: chardet<4,>=3.0.2 in /home/megstudio/.miniconda/envs/xuan/lib/python3.7/site-packages (from requests->visdom) (3.0.4)\n",
      "Requirement already satisfied: urllib3!=1.25.0,!=1.25.1,<1.26,>=1.21.1 in /home/megstudio/.miniconda/envs/xuan/lib/python3.7/site-packages (from requests->visdom) (1.25.11)\n",
      "Requirement already satisfied: idna<3,>=2.5 in /home/megstudio/.miniconda/envs/xuan/lib/python3.7/site-packages (from requests->visdom) (2.10)\n",
      "Requirement already satisfied: certifi>=2017.4.17 in /home/megstudio/.miniconda/envs/xuan/lib/python3.7/site-packages (from requests->visdom) (2021.10.8)\n",
      "Building wheels for collected packages: visdom, torchfile\n",
      "  Building wheel for visdom (setup.py) ... \u001b[?25ldone\n",
      "\u001b[?25h  Created wheel for visdom: filename=visdom-0.1.8.9-py3-none-any.whl size=655250 sha256=d0e1f8ce27034867e3fefa6195a08ec434a3c8dd1f2c50f9ddcaa7a48a08b282\n",
      "  Stored in directory: /home/megstudio/.cache/pip/wheels/c0/0f/80/ec4ff59e6999afe8e9b1b4ccf0e7488d9da341f599eafdf614\n",
      "  Building wheel for torchfile (setup.py) ... \u001b[?25ldone\n",
      "\u001b[?25h  Created wheel for torchfile: filename=torchfile-0.1.0-py3-none-any.whl size=5710 sha256=28cd8aeead8b8ec6ffbdfcb4c75b5187a5d46c00514e7465efa1fb6f32ce3d8e\n",
      "  Stored in directory: /home/megstudio/.cache/pip/wheels/fb/de/4a/5675e5d0ec25dec1a9e0359e730f1b826b62708c7baad37632\n",
      "Successfully built visdom torchfile\n",
      "Installing collected packages: jsonpointer, torchfile, jsonpatch, visdom\n",
      "Successfully installed jsonpatch-1.32 jsonpointer-2.2 torchfile-0.1.0 visdom-0.1.8.9\n",
      "Note: you may need to restart the kernel to use updated packages.\n"
     ]
    }
   ],
   "source": [
    "pip install visdom"
   ]
  },
  {
   "cell_type": "code",
   "execution_count": 2,
   "id": "ea36483e",
   "metadata": {},
   "outputs": [],
   "source": [
    "import visdom "
   ]
  },
  {
   "cell_type": "code",
   "execution_count": null,
   "id": "35285e9d",
   "metadata": {},
   "outputs": [
    {
     "name": "stdout",
     "output_type": "stream",
     "text": [
      "/home/megstudio/workspace/.py/lib/python3.7/site-packages/visdom/server.py:39: DeprecationWarning: zmq.eventloop.ioloop is deprecated in pyzmq 17. pyzmq now works with default tornado and asyncio eventloops.\n",
      "  ioloop.install()  # Needs to happen before any tornado imports!\n",
      "Checking for scripts.\n",
      "Downloading scripts, this may take a little while\n",
      "ERROR:root:Error [Errno 0] Error while downloading https://cdnjs.cloudflare.com/ajax/libs/mathjax/2.7.1/MathJax.js?config=TeX-AMS-MML_SVG\n"
     ]
    }
   ],
   "source": [
    "!python -m visdom.server"
   ]
  },
  {
   "cell_type": "code",
   "execution_count": 3,
   "id": "c03ef9ab",
   "metadata": {},
   "outputs": [
    {
     "name": "stderr",
     "output_type": "stream",
     "text": [
      "Setting up a new session...\n",
      "Traceback (most recent call last):\n",
      "  File \"/home/megstudio/.miniconda/envs/xuan/lib/python3.7/site-packages/urllib3/connection.py\", line 160, in _new_conn\n",
      "    (self._dns_host, self.port), self.timeout, **extra_kw\n",
      "  File \"/home/megstudio/.miniconda/envs/xuan/lib/python3.7/site-packages/urllib3/util/connection.py\", line 84, in create_connection\n",
      "    raise err\n",
      "  File \"/home/megstudio/.miniconda/envs/xuan/lib/python3.7/site-packages/urllib3/util/connection.py\", line 74, in create_connection\n",
      "    sock.connect(sa)\n",
      "ConnectionRefusedError: [Errno 111] Connection refused\n",
      "\n",
      "During handling of the above exception, another exception occurred:\n",
      "\n",
      "Traceback (most recent call last):\n",
      "  File \"/home/megstudio/.miniconda/envs/xuan/lib/python3.7/site-packages/urllib3/connectionpool.py\", line 677, in urlopen\n",
      "    chunked=chunked,\n",
      "  File \"/home/megstudio/.miniconda/envs/xuan/lib/python3.7/site-packages/urllib3/connectionpool.py\", line 392, in _make_request\n",
      "    conn.request(method, url, **httplib_request_kw)\n",
      "  File \"/home/megstudio/.miniconda/envs/xuan/lib/python3.7/http/client.py\", line 1281, in request\n",
      "    self._send_request(method, url, body, headers, encode_chunked)\n",
      "  File \"/home/megstudio/.miniconda/envs/xuan/lib/python3.7/http/client.py\", line 1327, in _send_request\n",
      "    self.endheaders(body, encode_chunked=encode_chunked)\n",
      "  File \"/home/megstudio/.miniconda/envs/xuan/lib/python3.7/http/client.py\", line 1276, in endheaders\n",
      "    self._send_output(message_body, encode_chunked=encode_chunked)\n",
      "  File \"/home/megstudio/.miniconda/envs/xuan/lib/python3.7/http/client.py\", line 1036, in _send_output\n",
      "    self.send(msg)\n",
      "  File \"/home/megstudio/.miniconda/envs/xuan/lib/python3.7/http/client.py\", line 976, in send\n",
      "    self.connect()\n",
      "  File \"/home/megstudio/.miniconda/envs/xuan/lib/python3.7/site-packages/urllib3/connection.py\", line 187, in connect\n",
      "    conn = self._new_conn()\n",
      "  File \"/home/megstudio/.miniconda/envs/xuan/lib/python3.7/site-packages/urllib3/connection.py\", line 172, in _new_conn\n",
      "    self, \"Failed to establish a new connection: %s\" % e\n",
      "urllib3.exceptions.NewConnectionError: <urllib3.connection.HTTPConnection object at 0x7f1343c37c90>: Failed to establish a new connection: [Errno 111] Connection refused\n",
      "\n",
      "During handling of the above exception, another exception occurred:\n",
      "\n",
      "Traceback (most recent call last):\n",
      "  File \"/home/megstudio/.miniconda/envs/xuan/lib/python3.7/site-packages/requests/adapters.py\", line 449, in send\n",
      "    timeout=timeout\n",
      "  File \"/home/megstudio/.miniconda/envs/xuan/lib/python3.7/site-packages/urllib3/connectionpool.py\", line 727, in urlopen\n",
      "    method, url, error=e, _pool=self, _stacktrace=sys.exc_info()[2]\n",
      "  File \"/home/megstudio/.miniconda/envs/xuan/lib/python3.7/site-packages/urllib3/util/retry.py\", line 446, in increment\n",
      "    raise MaxRetryError(_pool, url, error or ResponseError(cause))\n",
      "urllib3.exceptions.MaxRetryError: HTTPConnectionPool(host='localhost', port=8097): Max retries exceeded with url: /env/test (Caused by NewConnectionError('<urllib3.connection.HTTPConnection object at 0x7f1343c37c90>: Failed to establish a new connection: [Errno 111] Connection refused'))\n",
      "\n",
      "During handling of the above exception, another exception occurred:\n",
      "\n",
      "Traceback (most recent call last):\n",
      "  File \"/home/megstudio/workspace/.py/lib/python3.7/site-packages/visdom/__init__.py\", line 711, in _send\n",
      "    data=json.dumps(msg),\n",
      "  File \"/home/megstudio/workspace/.py/lib/python3.7/site-packages/visdom/__init__.py\", line 677, in _handle_post\n",
      "    r = self.session.post(url, data=data)\n",
      "  File \"/home/megstudio/.miniconda/envs/xuan/lib/python3.7/site-packages/requests/sessions.py\", line 578, in post\n",
      "    return self.request('POST', url, data=data, json=json, **kwargs)\n",
      "  File \"/home/megstudio/.miniconda/envs/xuan/lib/python3.7/site-packages/requests/sessions.py\", line 530, in request\n",
      "    resp = self.send(prep, **send_kwargs)\n",
      "  File \"/home/megstudio/.miniconda/envs/xuan/lib/python3.7/site-packages/requests/sessions.py\", line 643, in send\n",
      "    r = adapter.send(request, **kwargs)\n",
      "  File \"/home/megstudio/.miniconda/envs/xuan/lib/python3.7/site-packages/requests/adapters.py\", line 516, in send\n",
      "    raise ConnectionError(e, request=request)\n",
      "requests.exceptions.ConnectionError: HTTPConnectionPool(host='localhost', port=8097): Max retries exceeded with url: /env/test (Caused by NewConnectionError('<urllib3.connection.HTTPConnection object at 0x7f1343c37c90>: Failed to establish a new connection: [Errno 111] Connection refused'))\n",
      "[Errno 111] Connection refused\n",
      "on_close() takes 1 positional argument but 3 were given\n"
     ]
    },
    {
     "name": "stdout",
     "output_type": "stream",
     "text": [
      "Exception in user code:\n",
      "------------------------------------------------------------\n",
      "Exception in user code:\n",
      "------------------------------------------------------------\n",
      "Exception in user code:\n",
      "------------------------------------------------------------\n"
     ]
    },
    {
     "name": "stderr",
     "output_type": "stream",
     "text": [
      "Traceback (most recent call last):\n",
      "  File \"/home/megstudio/.miniconda/envs/xuan/lib/python3.7/site-packages/urllib3/connection.py\", line 160, in _new_conn\n",
      "    (self._dns_host, self.port), self.timeout, **extra_kw\n",
      "  File \"/home/megstudio/.miniconda/envs/xuan/lib/python3.7/site-packages/urllib3/util/connection.py\", line 84, in create_connection\n",
      "    raise err\n",
      "  File \"/home/megstudio/.miniconda/envs/xuan/lib/python3.7/site-packages/urllib3/util/connection.py\", line 74, in create_connection\n",
      "    sock.connect(sa)\n",
      "ConnectionRefusedError: [Errno 111] Connection refused\n",
      "\n",
      "During handling of the above exception, another exception occurred:\n",
      "\n",
      "Traceback (most recent call last):\n",
      "  File \"/home/megstudio/.miniconda/envs/xuan/lib/python3.7/site-packages/urllib3/connectionpool.py\", line 677, in urlopen\n",
      "    chunked=chunked,\n",
      "  File \"/home/megstudio/.miniconda/envs/xuan/lib/python3.7/site-packages/urllib3/connectionpool.py\", line 392, in _make_request\n",
      "    conn.request(method, url, **httplib_request_kw)\n",
      "  File \"/home/megstudio/.miniconda/envs/xuan/lib/python3.7/http/client.py\", line 1281, in request\n",
      "    self._send_request(method, url, body, headers, encode_chunked)\n",
      "  File \"/home/megstudio/.miniconda/envs/xuan/lib/python3.7/http/client.py\", line 1327, in _send_request\n",
      "    self.endheaders(body, encode_chunked=encode_chunked)\n",
      "  File \"/home/megstudio/.miniconda/envs/xuan/lib/python3.7/http/client.py\", line 1276, in endheaders\n",
      "    self._send_output(message_body, encode_chunked=encode_chunked)\n",
      "  File \"/home/megstudio/.miniconda/envs/xuan/lib/python3.7/http/client.py\", line 1036, in _send_output\n",
      "    self.send(msg)\n",
      "  File \"/home/megstudio/.miniconda/envs/xuan/lib/python3.7/http/client.py\", line 976, in send\n",
      "    self.connect()\n",
      "  File \"/home/megstudio/.miniconda/envs/xuan/lib/python3.7/site-packages/urllib3/connection.py\", line 187, in connect\n",
      "    conn = self._new_conn()\n",
      "  File \"/home/megstudio/.miniconda/envs/xuan/lib/python3.7/site-packages/urllib3/connection.py\", line 172, in _new_conn\n",
      "    self, \"Failed to establish a new connection: %s\" % e\n",
      "urllib3.exceptions.NewConnectionError: <urllib3.connection.HTTPConnection object at 0x7f13439a9310>: Failed to establish a new connection: [Errno 111] Connection refused\n",
      "\n",
      "During handling of the above exception, another exception occurred:\n",
      "\n",
      "Traceback (most recent call last):\n",
      "  File \"/home/megstudio/.miniconda/envs/xuan/lib/python3.7/site-packages/requests/adapters.py\", line 449, in send\n",
      "    timeout=timeout\n",
      "  File \"/home/megstudio/.miniconda/envs/xuan/lib/python3.7/site-packages/urllib3/connectionpool.py\", line 727, in urlopen\n",
      "    method, url, error=e, _pool=self, _stacktrace=sys.exc_info()[2]\n",
      "  File \"/home/megstudio/.miniconda/envs/xuan/lib/python3.7/site-packages/urllib3/util/retry.py\", line 446, in increment\n",
      "    raise MaxRetryError(_pool, url, error or ResponseError(cause))\n",
      "urllib3.exceptions.MaxRetryError: HTTPConnectionPool(host='localhost', port=8097): Max retries exceeded with url: /events (Caused by NewConnectionError('<urllib3.connection.HTTPConnection object at 0x7f13439a9310>: Failed to establish a new connection: [Errno 111] Connection refused'))\n",
      "\n",
      "During handling of the above exception, another exception occurred:\n",
      "\n",
      "Traceback (most recent call last):\n",
      "  File \"/home/megstudio/workspace/.py/lib/python3.7/site-packages/visdom/__init__.py\", line 711, in _send\n",
      "    data=json.dumps(msg),\n",
      "  File \"/home/megstudio/workspace/.py/lib/python3.7/site-packages/visdom/__init__.py\", line 677, in _handle_post\n",
      "    r = self.session.post(url, data=data)\n",
      "  File \"/home/megstudio/.miniconda/envs/xuan/lib/python3.7/site-packages/requests/sessions.py\", line 578, in post\n",
      "    return self.request('POST', url, data=data, json=json, **kwargs)\n",
      "  File \"/home/megstudio/.miniconda/envs/xuan/lib/python3.7/site-packages/requests/sessions.py\", line 530, in request\n",
      "    resp = self.send(prep, **send_kwargs)\n",
      "  File \"/home/megstudio/.miniconda/envs/xuan/lib/python3.7/site-packages/requests/sessions.py\", line 643, in send\n",
      "    r = adapter.send(request, **kwargs)\n",
      "  File \"/home/megstudio/.miniconda/envs/xuan/lib/python3.7/site-packages/requests/adapters.py\", line 516, in send\n",
      "    raise ConnectionError(e, request=request)\n",
      "requests.exceptions.ConnectionError: HTTPConnectionPool(host='localhost', port=8097): Max retries exceeded with url: /events (Caused by NewConnectionError('<urllib3.connection.HTTPConnection object at 0x7f13439a9310>: Failed to establish a new connection: [Errno 111] Connection refused'))\n",
      "Traceback (most recent call last):\n",
      "  File \"/home/megstudio/.miniconda/envs/xuan/lib/python3.7/site-packages/urllib3/connection.py\", line 160, in _new_conn\n",
      "    (self._dns_host, self.port), self.timeout, **extra_kw\n",
      "  File \"/home/megstudio/.miniconda/envs/xuan/lib/python3.7/site-packages/urllib3/util/connection.py\", line 84, in create_connection\n",
      "    raise err\n",
      "  File \"/home/megstudio/.miniconda/envs/xuan/lib/python3.7/site-packages/urllib3/util/connection.py\", line 74, in create_connection\n",
      "    sock.connect(sa)\n",
      "ConnectionRefusedError: [Errno 111] Connection refused\n",
      "\n",
      "During handling of the above exception, another exception occurred:\n",
      "\n",
      "Traceback (most recent call last):\n",
      "  File \"/home/megstudio/.miniconda/envs/xuan/lib/python3.7/site-packages/urllib3/connectionpool.py\", line 677, in urlopen\n",
      "    chunked=chunked,\n",
      "  File \"/home/megstudio/.miniconda/envs/xuan/lib/python3.7/site-packages/urllib3/connectionpool.py\", line 392, in _make_request\n",
      "    conn.request(method, url, **httplib_request_kw)\n",
      "  File \"/home/megstudio/.miniconda/envs/xuan/lib/python3.7/http/client.py\", line 1281, in request\n",
      "    self._send_request(method, url, body, headers, encode_chunked)\n",
      "  File \"/home/megstudio/.miniconda/envs/xuan/lib/python3.7/http/client.py\", line 1327, in _send_request\n",
      "    self.endheaders(body, encode_chunked=encode_chunked)\n",
      "  File \"/home/megstudio/.miniconda/envs/xuan/lib/python3.7/http/client.py\", line 1276, in endheaders\n",
      "    self._send_output(message_body, encode_chunked=encode_chunked)\n",
      "  File \"/home/megstudio/.miniconda/envs/xuan/lib/python3.7/http/client.py\", line 1036, in _send_output\n",
      "    self.send(msg)\n",
      "  File \"/home/megstudio/.miniconda/envs/xuan/lib/python3.7/http/client.py\", line 976, in send\n",
      "    self.connect()\n",
      "  File \"/home/megstudio/.miniconda/envs/xuan/lib/python3.7/site-packages/urllib3/connection.py\", line 187, in connect\n",
      "    conn = self._new_conn()\n",
      "  File \"/home/megstudio/.miniconda/envs/xuan/lib/python3.7/site-packages/urllib3/connection.py\", line 172, in _new_conn\n",
      "    self, \"Failed to establish a new connection: %s\" % e\n",
      "urllib3.exceptions.NewConnectionError: <urllib3.connection.HTTPConnection object at 0x7f134313e350>: Failed to establish a new connection: [Errno 111] Connection refused\n",
      "\n",
      "During handling of the above exception, another exception occurred:\n",
      "\n",
      "Traceback (most recent call last):\n",
      "  File \"/home/megstudio/.miniconda/envs/xuan/lib/python3.7/site-packages/requests/adapters.py\", line 449, in send\n",
      "    timeout=timeout\n",
      "  File \"/home/megstudio/.miniconda/envs/xuan/lib/python3.7/site-packages/urllib3/connectionpool.py\", line 727, in urlopen\n",
      "    method, url, error=e, _pool=self, _stacktrace=sys.exc_info()[2]\n",
      "  File \"/home/megstudio/.miniconda/envs/xuan/lib/python3.7/site-packages/urllib3/util/retry.py\", line 446, in increment\n",
      "    raise MaxRetryError(_pool, url, error or ResponseError(cause))\n",
      "urllib3.exceptions.MaxRetryError: HTTPConnectionPool(host='localhost', port=8097): Max retries exceeded with url: /events (Caused by NewConnectionError('<urllib3.connection.HTTPConnection object at 0x7f134313e350>: Failed to establish a new connection: [Errno 111] Connection refused'))\n",
      "\n",
      "During handling of the above exception, another exception occurred:\n",
      "\n",
      "Traceback (most recent call last):\n",
      "  File \"/home/megstudio/workspace/.py/lib/python3.7/site-packages/visdom/__init__.py\", line 711, in _send\n",
      "    data=json.dumps(msg),\n",
      "  File \"/home/megstudio/workspace/.py/lib/python3.7/site-packages/visdom/__init__.py\", line 677, in _handle_post\n",
      "    r = self.session.post(url, data=data)\n",
      "  File \"/home/megstudio/.miniconda/envs/xuan/lib/python3.7/site-packages/requests/sessions.py\", line 578, in post\n",
      "    return self.request('POST', url, data=data, json=json, **kwargs)\n",
      "  File \"/home/megstudio/.miniconda/envs/xuan/lib/python3.7/site-packages/requests/sessions.py\", line 530, in request\n",
      "    resp = self.send(prep, **send_kwargs)\n",
      "  File \"/home/megstudio/.miniconda/envs/xuan/lib/python3.7/site-packages/requests/sessions.py\", line 643, in send\n",
      "    r = adapter.send(request, **kwargs)\n",
      "  File \"/home/megstudio/.miniconda/envs/xuan/lib/python3.7/site-packages/requests/adapters.py\", line 516, in send\n",
      "    raise ConnectionError(e, request=request)\n",
      "requests.exceptions.ConnectionError: HTTPConnectionPool(host='localhost', port=8097): Max retries exceeded with url: /events (Caused by NewConnectionError('<urllib3.connection.HTTPConnection object at 0x7f134313e350>: Failed to establish a new connection: [Errno 111] Connection refused'))\n"
     ]
    },
    {
     "data": {
      "text/plain": [
       "False"
      ]
     },
     "execution_count": 3,
     "metadata": {},
     "output_type": "execute_result"
    }
   ],
   "source": [
    "import visdom  # 添加visdom库\n",
    "import numpy as np  # 添加numpy库\n",
    "vis = visdom.Visdom(env='test')  # 设置环境窗口的名称,如果不设置名称就默认为main\n",
    "vis.text('test', win='main')  # 使用文本输出\n",
    "vis.image(np.ones((3, 100, 100)))  # 绘制一幅尺寸为3 * 100 * 100的图片，图片的像素值全部为1"
   ]
  },
  {
   "cell_type": "code",
   "execution_count": null,
   "id": "504ddd3a",
   "metadata": {},
   "outputs": [],
   "source": []
  }
 ],
 "metadata": {
  "kernelspec": {
   "display_name": "Python 3 (ipykernel)",
   "language": "python",
   "name": "python3"
  },
  "language_info": {
   "codemirror_mode": {
    "name": "ipython",
    "version": 3
   },
   "file_extension": ".py",
   "mimetype": "text/x-python",
   "name": "python",
   "nbconvert_exporter": "python",
   "pygments_lexer": "ipython3",
   "version": "3.7.12"
  }
 },
 "nbformat": 4,
 "nbformat_minor": 5
}
