{
 "cells": [
  {
   "cell_type": "code",
   "execution_count": 1,
   "id": "da47c47d",
   "metadata": {},
   "outputs": [],
   "source": [
    "import torch"
   ]
  },
  {
   "cell_type": "markdown",
   "id": "bc8d9a57",
   "metadata": {},
   "source": [
    "## Use RNNCell"
   ]
  },
  {
   "cell_type": "code",
   "execution_count": 8,
   "id": "bd69476a",
   "metadata": {},
   "outputs": [
    {
     "name": "stdout",
     "output_type": "stream",
     "text": [
      "==================== 0 ====================\n",
      "Input size:  torch.Size([1, 4])\n",
      "Output size:  torch.Size([1, 2])\n",
      "tensor([[0.3474, 0.1900]], grad_fn=<TanhBackward0>)\n",
      "==================== 1 ====================\n",
      "Input size:  torch.Size([1, 4])\n",
      "Output size:  torch.Size([1, 2])\n",
      "tensor([[ 0.9199, -0.9888]], grad_fn=<TanhBackward0>)\n",
      "==================== 2 ====================\n",
      "Input size:  torch.Size([1, 4])\n",
      "Output size:  torch.Size([1, 2])\n",
      "tensor([[-0.4827, -0.6530]], grad_fn=<TanhBackward0>)\n"
     ]
    }
   ],
   "source": [
    "batch_size = 1\n",
    "seq_len = 3\n",
    "input_size = 4\n",
    "hidden_size = 2\n",
    "\n",
    "cell = torch.nn.RNNCell(input_size = input_size, hidden_size = hidden_size)\n",
    "\n",
    "dataset = torch.randn(seq_len, batch_size, input_size)\n",
    "hidden = torch.zeros(batch_size, hidden_size)\n",
    "\n",
    "for idx, input in enumerate(dataset):\n",
    "    print('='*20, idx, '='*20)\n",
    "    print('Input size: ', input.shape)\n",
    "    hidden = cell(input, hidden)\n",
    "    print('Output size: ', hidden.shape)\n",
    "    print(hidden)"
   ]
  },
  {
   "cell_type": "markdown",
   "id": "069a07ba",
   "metadata": {},
   "source": [
    "## Use RNN"
   ]
  },
  {
   "cell_type": "code",
   "execution_count": 9,
   "id": "3b2d41c4",
   "metadata": {},
   "outputs": [
    {
     "name": "stdout",
     "output_type": "stream",
     "text": [
      "Output size: torch.Size([3, 1, 2])\n",
      "Output: tensor([[[ 0.4038,  0.1125]],\n",
      "\n",
      "        [[-0.8523, -0.6146]],\n",
      "\n",
      "        [[-0.8416,  0.5001]]], grad_fn=<StackBackward0>)\n",
      "Hidden size:  torch.Size([1, 1, 2])\n",
      "Hidden:  tensor([[[-0.8416,  0.5001]]], grad_fn=<StackBackward0>)\n"
     ]
    }
   ],
   "source": [
    "batch_size = 1\n",
    "seq_len = 3\n",
    "input_size = 4\n",
    "hidden_size = 2\n",
    "num_layers = 1\n",
    "\n",
    "cell = torch.nn.RNN(input_size = input_size, hidden_size = hidden_size, num_layers = num_layers)\n",
    "\n",
    "inputs = torch.randn(seq_len, batch_size, input_size)\n",
    "hidden = torch.zeros(num_layers, batch_size, hidden_size)\n",
    "\n",
    "out, hidden = cell(inputs, hidden)\n",
    "\n",
    "print('Output size:', out.shape) #  𝑠𝑒𝑞𝐿𝑒𝑛, 𝑏𝑎𝑡𝑐ℎ𝑆𝑖𝑧𝑒, ℎ𝑖𝑑𝑑𝑒𝑛𝑆𝑖𝑧𝑒\n",
    "print('Output:', out)\n",
    "print('Hidden size: ', hidden.shape) # 𝒏𝒖𝒎𝑳𝒂𝒚𝒆𝒓𝒔, 𝒃𝒂𝒕𝒄𝒉𝑺𝒊𝒛𝒆, 𝒉𝒊𝒅𝒅𝒆𝒏𝑺𝒊𝒛e\n",
    "print('Hidden: ', hidden)"
   ]
  },
  {
   "cell_type": "markdown",
   "id": "8dd67981",
   "metadata": {},
   "source": [
    "## Example 1: 'hello'->'ohlol'"
   ]
  },
  {
   "cell_type": "markdown",
   "id": "2c684b84",
   "metadata": {},
   "source": [
    "Use RNNCell"
   ]
  },
  {
   "cell_type": "code",
   "execution_count": 19,
   "id": "49a2c9ea",
   "metadata": {},
   "outputs": [
    {
     "name": "stdout",
     "output_type": "stream",
     "text": [
      "Predicted string: oehoo , Epoch [1/15] loss=6.7808\n",
      "Predicted string: ollll , Epoch [2/15] loss=5.5469\n",
      "Predicted string: ollll , Epoch [3/15] loss=4.8716\n",
      "Predicted string: ollll , Epoch [4/15] loss=4.4298\n",
      "Predicted string: ollll , Epoch [5/15] loss=4.1009\n",
      "Predicted string: ohlll , Epoch [6/15] loss=3.8183\n",
      "Predicted string: ohlll , Epoch [7/15] loss=3.5518\n",
      "Predicted string: ohlll , Epoch [8/15] loss=3.3007\n",
      "Predicted string: ohlll , Epoch [9/15] loss=3.0770\n",
      "Predicted string: ohlol , Epoch [10/15] loss=2.8850\n",
      "Predicted string: ohlol , Epoch [11/15] loss=2.7138\n",
      "Predicted string: ohlol , Epoch [12/15] loss=2.5553\n",
      "Predicted string: ohlol , Epoch [13/15] loss=2.4400\n",
      "Predicted string: ohlol , Epoch [14/15] loss=2.3627\n",
      "Predicted string: ohlol , Epoch [15/15] loss=2.2901\n"
     ]
    }
   ],
   "source": [
    "import torch \n",
    "\n",
    "# ------------Parameters------------#\n",
    "input_size = 4\n",
    "hidden_size = 4\n",
    "batch_size = 1\n",
    "\n",
    "# ------------Prepare Data------------#\n",
    "idx2char = ['e', 'h','l','o'] # dictionary\n",
    "x_data = [1,0,0,2,3] # hello\n",
    "y_data = [3,1,2,3,2] # ohlol\n",
    "\n",
    "one_hot_lookup=[[1,0,0,0],\n",
    "                [0,1,0,0],\n",
    "                [0,0,1,0],\n",
    "                [0,0,0,1]]\n",
    "x_one_hot = [one_hot_lookup[x] for x in x_data] # seqLen, inputSize\n",
    "\n",
    "inputs = torch.Tensor(x_one_hot).view(-1,batch_size, input_size) # seqLen, batchSize, inputSize\n",
    "labels = torch.LongTensor(y_data).view(-1,1) # seqLen, 1\n",
    "\n",
    "# ------------Design Model------------#\n",
    "class Model(torch.nn.Module):\n",
    "    def __init__(self, input_size, hidden_size, batch_size):\n",
    "        super(Model,self).__init__()\n",
    "        self.batch_size = batch_size\n",
    "        self.input_size = input_size\n",
    "        self.hidden_size = hidden_size\n",
    "        self.rnncell = torch.nn.RNNCell(input_size = self.input_size, hidden_size = self.hidden_size)\n",
    "    \n",
    "    def forward(self, input, hidden):\n",
    "        hidden = self.rnncell(input, hidden) # input(batch_size, input_size); hidden(batch_size, hidden_size)\n",
    "        return hidden\n",
    "    \n",
    "    def init_hidden(self):\n",
    "        return torch.zeros(self.batch_size, self.hidden_size)\n",
    "    \n",
    "net = Model(input_size, hidden_size, batch_size)\n",
    "\n",
    "# ------------Loss and Optimizer------------#\n",
    "criterion = torch.nn.CrossEntropyLoss()\n",
    "optimizer = torch.optim.Adam(net.parameters(), lr=0.1)\n",
    "\n",
    "# ------------Training Cycle------------#\n",
    "for epoch in range(15):\n",
    "    loss = 0\n",
    "    optimizer.zero_grad()\n",
    "    hidden = net.init_hidden()\n",
    "    print('Predicted string: ', end='')\n",
    "    for input,label in zip(inputs, labels):\n",
    "        hidden = net(input, hidden) # RNN Cell\n",
    "        loss += criterion(hidden, label)\n",
    "        _, idx = hidden.max(dim=1) # Output prediction\n",
    "        print(idx2char[idx.item()],end='')\n",
    "    loss.backward()\n",
    "    optimizer.step()\n",
    "    print(' , Epoch [%d/15] loss=%.4f' % (epoch+1, loss.item()))\n",
    "\n",
    "# Shape of inputs :𝒔𝒆𝒒𝑳𝒆𝒏, 𝒃𝒂𝒕𝒄𝒉𝑺𝒊𝒛𝒆,𝒊𝒏𝒑𝒖𝒕𝑺𝒊𝒛𝒆\n",
    "# Shape of input: 𝒃𝒂𝒕𝒄𝒉𝑺𝒊𝒛𝒆, 𝒉𝒊𝒅𝒅𝒆𝒏𝑺𝒊𝒛𝒆\n",
    "# Shape of labels :𝒔𝒆𝒒𝑺𝒊𝒛𝒆, 𝟏\n",
    "# Shape of label: 𝟏"
   ]
  },
  {
   "cell_type": "markdown",
   "id": "e060bf0e",
   "metadata": {},
   "source": [
    "Use RNN"
   ]
  },
  {
   "cell_type": "code",
   "execution_count": 24,
   "id": "23ad1319",
   "metadata": {},
   "outputs": [
    {
     "name": "stdout",
     "output_type": "stream",
     "text": [
      "Predicted:  lhhhh, Epoch [1/15] loss = 1.488\n",
      "Predicted:  lhhll, Epoch [2/15] loss = 1.305\n",
      "Predicted:  lhlll, Epoch [3/15] loss = 1.148\n",
      "Predicted:  lhlol, Epoch [4/15] loss = 1.036\n",
      "Predicted:  lolol, Epoch [5/15] loss = 0.959\n",
      "Predicted:  lolol, Epoch [6/15] loss = 0.898\n",
      "Predicted:  oolol, Epoch [7/15] loss = 0.846\n",
      "Predicted:  oolol, Epoch [8/15] loss = 0.801\n",
      "Predicted:  oolol, Epoch [9/15] loss = 0.761\n",
      "Predicted:  oolol, Epoch [10/15] loss = 0.727\n",
      "Predicted:  ohlol, Epoch [11/15] loss = 0.695\n",
      "Predicted:  ohlol, Epoch [12/15] loss = 0.667\n",
      "Predicted:  ohlol, Epoch [13/15] loss = 0.641\n",
      "Predicted:  ohlol, Epoch [14/15] loss = 0.617\n",
      "Predicted:  ohlol, Epoch [15/15] loss = 0.596\n",
      "Predicted:  ohlol, Epoch [16/15] loss = 0.578\n",
      "Predicted:  ohlol, Epoch [17/15] loss = 0.562\n",
      "Predicted:  ohlol, Epoch [18/15] loss = 0.548\n",
      "Predicted:  ohlol, Epoch [19/15] loss = 0.536\n",
      "Predicted:  ohlol, Epoch [20/15] loss = 0.526\n",
      "Predicted:  ohlol, Epoch [21/15] loss = 0.517\n",
      "Predicted:  ohlol, Epoch [22/15] loss = 0.510\n",
      "Predicted:  ohlol, Epoch [23/15] loss = 0.503\n",
      "Predicted:  ohlol, Epoch [24/15] loss = 0.498\n",
      "Predicted:  ohlol, Epoch [25/15] loss = 0.493\n"
     ]
    }
   ],
   "source": [
    "import torch \n",
    "\n",
    "# ------------Parameters------------#\n",
    "input_size = 4\n",
    "hidden_size = 4\n",
    "num_layers = 1\n",
    "batch_size = 1\n",
    "seq_len = 5\n",
    "\n",
    "# ------------Prepare Data------------#\n",
    "idx2char = ['e', 'h','l','o'] # dictionary\n",
    "x_data = [1,0,0,2,3] # hello\n",
    "y_data = [3,1,2,3,2] # ohlol\n",
    "\n",
    "one_hot_lookup=[[1,0,0,0],\n",
    "                [0,1,0,0],\n",
    "                [0,0,1,0],\n",
    "                [0,0,0,1]]\n",
    "x_one_hot = [one_hot_lookup[x] for x in x_data] # seqLen, inputSize\n",
    "\n",
    "inputs = torch.Tensor(x_one_hot).view(seq_len, batch_size, input_size) # seqLen, batchSize, inputSize\n",
    "labels = torch.LongTensor(y_data) # 𝒔𝒆𝒒𝑳𝒆𝒏 × 𝒃𝒂𝒕𝒄𝒉𝑺𝒊𝒛𝒆\n",
    "\n",
    "# ------------Design Model------------#\n",
    "class Model(torch.nn.Module):\n",
    "    def __init__(self, input_size, hidden_size, batch_size, num_layers=1):\n",
    "        super(Model,self).__init__()\n",
    "        self.num_layers = num_layers\n",
    "        self.batch_size = batch_size\n",
    "        self.input_size = input_size\n",
    "        self.hidden_size = hidden_size\n",
    "        self.rnn = torch.nn.RNN(input_size = self.input_size,\n",
    "                                hidden_size = self.hidden_size,\n",
    "                                num_layers = self.num_layers)\n",
    "    \n",
    "    def forward(self, input):\n",
    "        hidden = torch.zeros(self.num_layers,\n",
    "                             self.batch_size,\n",
    "                             self.hidden_size)\n",
    "        out, _ = self.rnn(input, hidden)\n",
    "        return out.view(-1, self.hidden_size) # (𝒔𝒆𝒒𝑳𝒆𝒏 × 𝒃𝒂𝒕𝒄𝒉𝑺𝒊𝒛𝒆, 𝒉𝒊𝒅𝒅𝒆𝒏𝑺𝒊𝒛e)\n",
    "    \n",
    "net = Model(input_size, hidden_size, batch_size, num_layers)\n",
    "\n",
    "# ------------Loss and Optimizer------------#\n",
    "criterion = torch.nn.CrossEntropyLoss()\n",
    "optimizer = torch.optim.Adam(net.parameters(), lr=0.05)\n",
    "\n",
    "# ------------Training Cycle------------#\n",
    "for epoch in range(25):\n",
    "    optimizer.zero_grad()\n",
    "    outputs = net(inputs)\n",
    "    loss = criterion(outputs, labels)\n",
    "    loss.backward()\n",
    "    optimizer.step()\n",
    "    \n",
    "    _, idx = outputs.max(dim=1)\n",
    "    idx = idx.data.numpy()\n",
    "    print('Predicted: ', ''.join([idx2char[x] for x in idx]), end='')\n",
    "    print(', Epoch [%d/15] loss = %.3f' % (epoch + 1, loss.item()))"
   ]
  },
  {
   "cell_type": "markdown",
   "id": "53192ac0",
   "metadata": {},
   "source": [
    "将one-hot编码替换成embedding"
   ]
  },
  {
   "cell_type": "code",
   "execution_count": 26,
   "id": "563f901a",
   "metadata": {},
   "outputs": [
    {
     "name": "stdout",
     "output_type": "stream",
     "text": [
      "Predicted:  heeee, Epoch [1/15] loss = 1.437\n",
      "Predicted:  ollol, Epoch [2/15] loss = 1.127\n",
      "Predicted:  ollol, Epoch [3/15] loss = 0.923\n",
      "Predicted:  ollol, Epoch [4/15] loss = 0.736\n",
      "Predicted:  ollol, Epoch [5/15] loss = 0.567\n",
      "Predicted:  ohlol, Epoch [6/15] loss = 0.410\n",
      "Predicted:  ohlol, Epoch [7/15] loss = 0.285\n",
      "Predicted:  ohlol, Epoch [8/15] loss = 0.185\n",
      "Predicted:  ohlol, Epoch [9/15] loss = 0.118\n",
      "Predicted:  ohlol, Epoch [10/15] loss = 0.078\n",
      "Predicted:  ohlol, Epoch [11/15] loss = 0.053\n",
      "Predicted:  ohlol, Epoch [12/15] loss = 0.037\n",
      "Predicted:  ohlol, Epoch [13/15] loss = 0.026\n",
      "Predicted:  ohlol, Epoch [14/15] loss = 0.019\n",
      "Predicted:  ohlol, Epoch [15/15] loss = 0.014\n"
     ]
    }
   ],
   "source": [
    "import torch \n",
    "\n",
    "# ------------Parameters------------#\n",
    "num_class = 4\n",
    "input_size = 4\n",
    "hidden_size = 8\n",
    "embedding_size = 10\n",
    "num_layers = 2\n",
    "batch_size = 1\n",
    "seq_len = 5\n",
    "\n",
    "# ------------Prepare Data------------#\n",
    "idx2char = ['e', 'h','l','o'] # dictionary\n",
    "x_data = [[1,0,0,2,3]] # hello  # (batch, seq_len)\n",
    "y_data = [3,1,2,3,2] # ohlol  (batch * seq_len)\n",
    "\n",
    "inputs = torch.LongTensor(x_data) # Input should be LongTensor: 𝒃𝒂𝒕𝒄𝒉𝑺𝒊𝒛𝒆, 𝒔𝒆𝒒𝑳𝒆𝒏\n",
    "labels = torch.LongTensor(y_data) # Target should be LongTensor: 𝒃𝒂𝒕𝒄𝒉𝑺𝒊𝒛𝒆 × 𝒔𝒆𝒒𝑳𝒆𝒏\n",
    "\n",
    "# ------------Design Model------------#\n",
    "class Model(torch.nn.Module):\n",
    "    def __init__(self):\n",
    "        super(Model,self).__init__()\n",
    "        self.emb = torch.nn.Embedding(input_size, embedding_size) # Lookup matrix of Embedding:𝒊𝒏𝒑𝒖𝒕𝑺𝒊𝒛𝒆, 𝒆𝒎𝒃𝒆𝒅𝒅𝒊𝒏𝒈𝑺𝒊𝒛𝒆\n",
    "        self.rnn = torch.nn.RNN(input_size = embedding_size,\n",
    "                                hidden_size = hidden_size,\n",
    "                                num_layers = num_layers,\n",
    "                                batch_first = True)\n",
    "        self.fc = torch.nn.Linear(hidden_size, num_class)\n",
    "    \n",
    "    def forward(self, x):\n",
    "        hidden = torch.zeros(num_layers, x.size(0), hidden_size)\n",
    "        \n",
    "        x = self.emb(x) \n",
    "#         Input should be LongTensor:𝒃𝒂𝒕𝒄𝒉𝑺𝒊𝒛𝒆, 𝒔𝒆𝒒𝑳𝒆𝒏\n",
    "#         Output with shape:𝒃𝒂𝒕𝒄𝒉𝑺𝒊𝒛𝒆, 𝒔𝒆𝒒𝑳𝒆𝒏, 𝒆𝒎𝒃𝒆𝒅𝒅𝒊𝒏𝒈𝑺𝒊𝒛𝒆\n",
    "#         Notice: batch FIRST\n",
    "\n",
    "        x, _ = self.rnn(x, hidden)\n",
    "#         Input of RNN:𝒃𝒂𝒕𝒄𝒉𝑺𝒊𝒛𝒆, 𝒔𝒆𝒒𝑳𝒆𝒏, 𝒆𝒎𝒃𝒆𝒅𝒅𝒊𝒏𝒈𝑺𝒊𝒛𝒆\n",
    "#         Output of RNN:𝒃𝒂𝒕𝒄𝒉𝑺𝒊𝒛𝒆, 𝒔𝒆𝒒𝑳𝒆𝒏, 𝒉𝒊𝒅𝒅𝒆𝒏𝑺𝒊𝒛𝒆\n",
    "        \n",
    "        x = self.fc(x)\n",
    "#         Input of FC Layer:𝒃𝒂𝒕𝒄𝒉𝑺𝒊𝒛𝒆, 𝒔𝒆𝒒𝑳𝒆𝒏, 𝒉𝒊𝒅𝒅𝒆𝒏𝑺𝒊𝒛𝒆\n",
    "#         Output of FC Layer:𝒃𝒂𝒕𝒄𝒉𝑺𝒊𝒛𝒆, 𝒔𝒆𝒒𝑳𝒆𝒏,𝒏𝒖𝒎𝑪𝒍𝒂𝒔s\n",
    "\n",
    "        return x.view(-1, num_class) # (𝒃𝒂𝒕𝒄𝒉𝑺𝒊𝒛𝒆 × 𝒔𝒆𝒒𝑳𝒆𝒏, 𝒏𝒖𝒎𝑪𝒍𝒂𝒔𝒔)\n",
    "    \n",
    "net = Model()\n",
    "\n",
    "# ------------Loss and Optimizer------------#\n",
    "criterion = torch.nn.CrossEntropyLoss()\n",
    "optimizer = torch.optim.Adam(net.parameters(), lr=0.05)\n",
    "\n",
    "# ------------Training Cycle------------#\n",
    "for epoch in range(15):\n",
    "    optimizer.zero_grad()\n",
    "    outputs = net(inputs)\n",
    "    loss = criterion(outputs, labels)\n",
    "    loss.backward()\n",
    "    optimizer.step()\n",
    "    \n",
    "    _, idx = outputs.max(dim=1)\n",
    "    idx = idx.data.numpy()\n",
    "    print('Predicted: ', ''.join([idx2char[x] for x in idx]), end='')\n",
    "    print(', Epoch [%d/15] loss = %.3f' % (epoch + 1, loss.item()))"
   ]
  },
  {
   "cell_type": "code",
   "execution_count": null,
   "id": "9d0a63e4",
   "metadata": {},
   "outputs": [],
   "source": []
  }
 ],
 "metadata": {
  "kernelspec": {
   "display_name": "Python 3 (ipykernel)",
   "language": "python",
   "name": "python3"
  },
  "language_info": {
   "codemirror_mode": {
    "name": "ipython",
    "version": 3
   },
   "file_extension": ".py",
   "mimetype": "text/x-python",
   "name": "python",
   "nbconvert_exporter": "python",
   "pygments_lexer": "ipython3",
   "version": "3.7.12"
  }
 },
 "nbformat": 4,
 "nbformat_minor": 5
}
