{
 "cells": [
  {
   "cell_type": "code",
   "execution_count": 2,
   "id": "d3bc2d4c",
   "metadata": {},
   "outputs": [],
   "source": [
    "import torch\n",
    "from torchvision import transforms, datasets\n",
    "from torch.utils.data import DataLoader\n",
    "import torch.nn.functional as F\n",
    "import torch.optim as optim"
   ]
  },
  {
   "cell_type": "markdown",
   "id": "b28b09d7",
   "metadata": {},
   "source": [
    "## 1.prepare dataset"
   ]
  },
  {
   "cell_type": "code",
   "execution_count": 3,
   "id": "1283526f",
   "metadata": {},
   "outputs": [],
   "source": [
    "batch_size = 64\n",
    "transform = transforms.Compose([\n",
    "    transforms.ToTensor(),\n",
    "    transforms.Normalize((0.1307,),(0.3081,))\n",
    "])\n",
    "\n",
    "train_dataset = datasets.MNIST(root='../dataset/mnist/',\n",
    "                               train=True,\n",
    "                               download=False, # True\n",
    "                               transform=transform)\n",
    "train_loader = DataLoader(train_dataset,\n",
    "                          shuffle=True,\n",
    "                          batch_size=batch_size)\n",
    "\n",
    "test_dataset = datasets.MNIST(root='../dataset/mnist/',\n",
    "                              train=False,\n",
    "                              download=False, # 第一次下载True\n",
    "                              transform=transform)\n",
    "test_loader = DataLoader(test_dataset,\n",
    "                         shuffle=False,\n",
    "                         batch_size=batch_size)"
   ]
  },
  {
   "cell_type": "markdown",
   "id": "87928fb5",
   "metadata": {},
   "source": [
    "## 2.Design Model Using Class"
   ]
  },
  {
   "cell_type": "code",
   "execution_count": 4,
   "id": "25b9f693",
   "metadata": {},
   "outputs": [],
   "source": [
    "class Net(torch.nn.Module):\n",
    "    def __init__(self):\n",
    "        super(Net, self).__init__()\n",
    "        self.l1 = torch.nn.Linear(784,512)\n",
    "        self.l2 = torch.nn.Linear(512,256)\n",
    "        self.l3 = torch.nn.Linear(256,128)\n",
    "        self.l4 = torch.nn.Linear(128,64)\n",
    "        self.l5 = torch.nn.Linear(64,10)\n",
    "    \n",
    "    def forward(self,x):\n",
    "        x = x.view(-1,784) # Tensor变成二阶张量即矩阵；之前的28行28列，行拼起来变成784列；第一个数是-1，将来自动算，对应的是第几个样本\n",
    "        x = F.relu(self.l1(x))\n",
    "        x = F.relu(self.l2(x))\n",
    "        x = F.relu(self.l3(x))\n",
    "        x = F.relu(self.l4(x))\n",
    "        return self.l5(x) # 最后一层不做激活\n",
    "    \n",
    "model = Net()"
   ]
  },
  {
   "cell_type": "markdown",
   "id": "6262a1a9",
   "metadata": {},
   "source": [
    "## 3. Construct Loss and Optimizer"
   ]
  },
  {
   "cell_type": "code",
   "execution_count": 5,
   "id": "46f4ec9a",
   "metadata": {},
   "outputs": [],
   "source": [
    "criterion = torch.nn.CrossEntropyLoss() # 交叉熵损失\n",
    "optimizer = optim.SGD(model.parameters(), lr=0.01, momentum=0.5) #带有冲量，目的能冲过鞍面和部分局部最优"
   ]
  },
  {
   "cell_type": "markdown",
   "id": "df545575",
   "metadata": {},
   "source": [
    "## 4. Train and Test"
   ]
  },
  {
   "cell_type": "code",
   "execution_count": 7,
   "id": "e59c7c26",
   "metadata": {},
   "outputs": [],
   "source": [
    "def train(epoch):\n",
    "    running_loss = 0.0\n",
    "    for batch_idx, data in enumerate(train_loader, 0):\n",
    "        inputs, target = data\n",
    "        optimizer.zero_grad()\n",
    "        \n",
    "        # forward + backward + update\n",
    "        outputs = model(inputs)\n",
    "        loss = criterion(outputs, target)\n",
    "        loss.backward()\n",
    "        optimizer.step()\n",
    "        \n",
    "        running_loss += loss.item()\n",
    "        if batch_idx % 300 == 299:\n",
    "            print('[%d, %5d] loss: %.3f' % (epoch + 1, batch_idx + 1, running_loss / 300))\n",
    "            running_loss = 0.0"
   ]
  },
  {
   "cell_type": "code",
   "execution_count": 8,
   "id": "e513483e",
   "metadata": {},
   "outputs": [],
   "source": [
    "def test():\n",
    "    correct = 0\n",
    "    total = 0\n",
    "    with torch.no_grad():\n",
    "        for data in test_loader:\n",
    "            images, labels = data\n",
    "            outputs = model(images)\n",
    "            _, predicted = torch.max(outputs.data, dim=1) # predicted是一行最大值的下标,dim=1表示沿着列的维度\n",
    "            total += labels.size(0) # 当前batch里数据标签的数目，即batch_size\n",
    "            correct += (predicted == labels).sum().item() # 张量之间的比较运算\n",
    "    print('Accuracy on test set: %d %%' % (100 * correct / total))"
   ]
  },
  {
   "cell_type": "code",
   "execution_count": 9,
   "id": "464e9086",
   "metadata": {},
   "outputs": [
    {
     "name": "stdout",
     "output_type": "stream",
     "text": [
      "[1,   300] loss: 2.215\n",
      "[1,   600] loss: 0.891\n",
      "[1,   900] loss: 0.418\n",
      "Accuracy on test set: 90 %\n",
      "[2,   300] loss: 0.323\n",
      "[2,   600] loss: 0.270\n",
      "[2,   900] loss: 0.224\n",
      "Accuracy on test set: 94 %\n",
      "[3,   300] loss: 0.192\n",
      "[3,   600] loss: 0.175\n",
      "[3,   900] loss: 0.153\n",
      "Accuracy on test set: 95 %\n",
      "[4,   300] loss: 0.132\n",
      "[4,   600] loss: 0.122\n",
      "[4,   900] loss: 0.124\n",
      "Accuracy on test set: 96 %\n",
      "[5,   300] loss: 0.103\n",
      "[5,   600] loss: 0.095\n",
      "[5,   900] loss: 0.091\n",
      "Accuracy on test set: 96 %\n",
      "[6,   300] loss: 0.078\n",
      "[6,   600] loss: 0.080\n",
      "[6,   900] loss: 0.076\n",
      "Accuracy on test set: 97 %\n",
      "[7,   300] loss: 0.063\n",
      "[7,   600] loss: 0.063\n",
      "[7,   900] loss: 0.060\n",
      "Accuracy on test set: 97 %\n",
      "[8,   300] loss: 0.051\n",
      "[8,   600] loss: 0.048\n",
      "[8,   900] loss: 0.053\n",
      "Accuracy on test set: 97 %\n",
      "[9,   300] loss: 0.038\n",
      "[9,   600] loss: 0.040\n",
      "[9,   900] loss: 0.044\n",
      "Accuracy on test set: 97 %\n",
      "[10,   300] loss: 0.029\n",
      "[10,   600] loss: 0.032\n",
      "[10,   900] loss: 0.037\n",
      "Accuracy on test set: 97 %\n"
     ]
    }
   ],
   "source": [
    "if __name__ == '__main__':\n",
    "    for epoch in range(10):\n",
    "        train(epoch)\n",
    "        test()"
   ]
  },
  {
   "cell_type": "code",
   "execution_count": null,
   "id": "e3b1346b",
   "metadata": {},
   "outputs": [],
   "source": []
  }
 ],
 "metadata": {
  "kernelspec": {
   "display_name": "Python 3 (ipykernel)",
   "language": "python",
   "name": "python3"
  },
  "language_info": {
   "codemirror_mode": {
    "name": "ipython",
    "version": 3
   },
   "file_extension": ".py",
   "mimetype": "text/x-python",
   "name": "python",
   "nbconvert_exporter": "python",
   "pygments_lexer": "ipython3",
   "version": "3.7.12"
  }
 },
 "nbformat": 4,
 "nbformat_minor": 5
}
