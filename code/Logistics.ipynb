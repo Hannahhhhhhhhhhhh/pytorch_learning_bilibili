{
 "cells": [
  {
   "cell_type": "code",
   "execution_count": 6,
   "id": "a9f47e65",
   "metadata": {},
   "outputs": [],
   "source": [
    "import torch\n",
    "import torchvision\n",
    "from tqdm import tqdm"
   ]
  },
  {
   "cell_type": "code",
   "execution_count": 9,
   "id": "269d9930",
   "metadata": {},
   "outputs": [
    {
     "name": "stdout",
     "output_type": "stream",
     "text": [
      "1. prepare dataset\n",
      "2. design model using class\n",
      "3.construct loss and optimizer\n",
      "4. training cycle\n"
     ]
    },
    {
     "name": "stderr",
     "output_type": "stream",
     "text": [
      "100%|██████████| 10000/10000 [00:01<00:00, 5142.93it/s]"
     ]
    },
    {
     "name": "stdout",
     "output_type": "stream",
     "text": [
      "w =  4.070026874542236\n",
      "b =  -9.984475135803223\n",
      "y_pred =  tensor([[0.9982]])\n"
     ]
    },
    {
     "name": "stderr",
     "output_type": "stream",
     "text": [
      "\n"
     ]
    }
   ],
   "source": [
    "import torch.nn.functional as F\n",
    "\n",
    "# 1. prepare dataset\n",
    "print('1. prepare dataset')\n",
    "x_data = torch.Tensor([[1.0],[2.0],[3.0]])\n",
    "y_data = torch.Tensor([[0],[0],[1]])     # y_data变更，变成0、1，二分类问题\n",
    "\n",
    "# 2. design model using class\n",
    "print('2. design model using class')\n",
    "class LogisticRegressionModel(torch.nn.Module):\n",
    "    def __init__(self):\n",
    "        super(LogisticRegressionModel, self).__init__()\n",
    "        self.linear = torch.nn.Linear(1,1)\n",
    "    \n",
    "    def forward(self, x):\n",
    "        y_pred = F.sigmoid(self.linear(x))    # 在之前linear基础上加入sigmoid函数\n",
    "        return y_pred\n",
    "model = LogisticRegressionModel()\n",
    "\n",
    "# 3.construct loss and optimizer\n",
    "print('3.construct loss and optimizer')\n",
    "criterion = torch.nn.BCELoss(size_average = False)   # BCEloss，交叉熵损失函数\n",
    "optimizer = torch.optim.SGD(model.parameters(), lr=0.01)\n",
    "\n",
    "# 4. training cycle\n",
    "print('4. training cycle')\n",
    "epoch_lst = list()\n",
    "loss_lst = list()\n",
    "for epoch in tqdm(range(10000)):\n",
    "    y_pred = model(x_data)\n",
    "    loss = criterion(y_pred, y_data)\n",
    "#     print(epoch, loss.item())\n",
    "    epoch_lst.append(epoch)\n",
    "    loss_lst.append(loss.item())\n",
    "    \n",
    "    optimizer.zero_grad() # 导数置为0\n",
    "    loss.backward()\n",
    "    optimizer.step()\n",
    "\n",
    "print('w = ', model.linear.weight.item())\n",
    "print('b = ', model.linear.bias.item())\n",
    "\n",
    "x_test = torch.Tensor([[4.0]])\n",
    "y_test = model(x_test)\n",
    "print('y_pred = ', y_test.data)"
   ]
  },
  {
   "cell_type": "code",
   "execution_count": 10,
   "id": "48e3216f",
   "metadata": {},
   "outputs": [
    {
     "data": {
      "image/png": "[encoded data removed]",
      "text/plain": [
       "<Figure size 432x288 with 1 Axes>"
      ]
     },
     "metadata": {
      "needs_background": "light"
     },
     "output_type": "display_data"
    }
   ],
   "source": [
    "import matplotlib.pyplot as plt\n",
    "import numpy as np\n",
    "\n",
    "def show_loss(epoch_lst, loss_lst, optimizer):\n",
    "    fig, ax = plt.subplots()\n",
    "    ax.plot(epoch_lst, loss_lst)\n",
    "\n",
    "    ax.set(xlabel='epoch', ylabel='loss',\n",
    "           title='loss: '+optimizer)\n",
    "    ax.grid()\n",
    "\n",
    "    # fig.savefig(\"test.png\")\n",
    "    plt.show()\n",
    "\n",
    "show_loss(epoch_lst, loss_lst, 'Logistic Regression')"
   ]
  },
  {
   "cell_type": "code",
   "execution_count": 14,
   "id": "d5d42ba7",
   "metadata": {},
   "outputs": [
    {
     "data": {
      "image/png": "[encoded data removed]",
      "text/plain": [
       "<Figure size 432x288 with 1 Axes>"
      ]
     },
     "metadata": {
      "needs_background": "light"
     },
     "output_type": "display_data"
    }
   ],
   "source": [
    "import numpy as np\n",
    "import matplotlib.pyplot as plt\n",
    "\n",
    "x = np.linspace(0,10,200)\n",
    "x_t = torch.Tensor(x).view(200,1)\n",
    "y_t = model(x_t)\n",
    "y = y_t.data.numpy()\n",
    "plt.plot(x,y)\n",
    "plt.plot([0,10],[0.5,0.5],c='r')\n",
    "plt.xlabel('Hours')\n",
    "plt.ylabel('Probability of Pass')\n",
    "plt.grid()\n",
    "plt.show()"
   ]
  },
  {
   "cell_type": "code",
   "execution_count": null,
   "id": "f01a64c0",
   "metadata": {},
   "outputs": [],
   "source": []
  }
 ],
 "metadata": {
  "kernelspec": {
   "display_name": "Python 3 (ipykernel)",
   "language": "python",
   "name": "python3"
  },
  "language_info": {
   "codemirror_mode": {
    "name": "ipython",
    "version": 3
   },
   "file_extension": ".py",
   "mimetype": "text/x-python",
   "name": "python",
   "nbconvert_exporter": "python",
   "pygments_lexer": "ipython3",
   "version": "3.7.12"
  }
 },
 "nbformat": 4,
 "nbformat_minor": 5
}
