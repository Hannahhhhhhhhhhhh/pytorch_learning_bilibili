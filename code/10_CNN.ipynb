{
 "cells": [
  {
   "cell_type": "code",
   "execution_count": 1,
   "id": "fcbc9f32",
   "metadata": {},
   "outputs": [],
   "source": [
    "import torch"
   ]
  },
  {
   "cell_type": "markdown",
   "id": "50485339",
   "metadata": {},
   "source": [
    "## Convolutional layer"
   ]
  },
  {
   "cell_type": "code",
   "execution_count": 2,
   "id": "c4dc8f3d",
   "metadata": {},
   "outputs": [
    {
     "name": "stdout",
     "output_type": "stream",
     "text": [
      "torch.Size([1, 5, 100, 100])\n",
      "torch.Size([1, 10, 98, 98])\n",
      "torch.Size([10, 5, 3, 3])\n"
     ]
    }
   ],
   "source": [
    "in_channels, out_channels = 5, 10\n",
    "width, height = 100,100\n",
    "kernel_size = 3\n",
    "batch_size = 1\n",
    "\n",
    "input_data = torch.randn(batch_size,\n",
    "                        in_channels,\n",
    "                        width,\n",
    "                        height)\n",
    "\n",
    "conv_layer = torch.nn.Conv2d(in_channels,\n",
    "                           out_channels,\n",
    "                           kernel_size = kernel_size)\n",
    "\n",
    "output = conv_layer(input_data)\n",
    "\n",
    "print(input_data.shape)\n",
    "print(output.shape)\n",
    "print(conv_layer.weight.shape)"
   ]
  },
  {
   "cell_type": "markdown",
   "id": "18e4c57c",
   "metadata": {},
   "source": [
    "## padding"
   ]
  },
  {
   "cell_type": "code",
   "execution_count": 6,
   "id": "687ad9f0",
   "metadata": {},
   "outputs": [
    {
     "name": "stdout",
     "output_type": "stream",
     "text": [
      "tensor([[[[ 91., 168., 224., 215., 127.],\n",
      "          [114., 211., 295., 262., 149.],\n",
      "          [192., 259., 282., 214., 122.],\n",
      "          [194., 251., 253., 169.,  86.],\n",
      "          [ 96., 112., 110.,  68.,  31.]]]], grad_fn=<ThnnConv2DBackward0>)\n",
      "torch.Size([1, 1, 5, 5])\n"
     ]
    }
   ],
   "source": [
    "input = [3,4,6,5,7,\n",
    "         2,4,6,8,2,\n",
    "         1,6,7,8,4,\n",
    "         9,7,4,6,2,\n",
    "         3,7,5,4,1]\n",
    "input = torch.Tensor(input).view(1,1,5,5) # batch=1, channel=1, width=5, height=5\n",
    "\n",
    "conv_layer = torch.nn.Conv2d(1, 1, kernel_size = 3, padding = 1, bias = False) # input_channel=1, output_channel=1\n",
    "\n",
    "kernel = torch.Tensor([1,2,3,4,5,6,7,8,9]).view(1,1,3,3) # output_channel=1, input_channel=1, width=1, height=1\n",
    "conv_layer.weight.data = kernel.data\n",
    "\n",
    "output = conv_layer(input)\n",
    "print(output)\n",
    "print(output.shape)"
   ]
  },
  {
   "cell_type": "markdown",
   "id": "efa09491",
   "metadata": {},
   "source": [
    "## Stride 步长"
   ]
  },
  {
   "cell_type": "code",
   "execution_count": 7,
   "id": "e8f212c5",
   "metadata": {},
   "outputs": [
    {
     "name": "stdout",
     "output_type": "stream",
     "text": [
      "tensor([[[[211., 262.],\n",
      "          [251., 169.]]]], grad_fn=<ThnnConv2DBackward0>)\n",
      "torch.Size([1, 1, 2, 2])\n"
     ]
    }
   ],
   "source": [
    "input = [3,4,6,5,7,\n",
    "         2,4,6,8,2,\n",
    "         1,6,7,8,4,\n",
    "         9,7,4,6,2,\n",
    "         3,7,5,4,1]\n",
    "input = torch.Tensor(input).view(1,1,5,5) \n",
    "\n",
    "conv_layer = torch.nn.Conv2d(1, 1, kernel_size = 3, stride = 2, bias = False) # stride=2\n",
    "\n",
    "kernel = torch.Tensor([1,2,3,4,5,6,7,8,9]).view(1,1,3,3) \n",
    "conv_layer.weight.data = kernel.data\n",
    "\n",
    "output = conv_layer(input)\n",
    "print(output)\n",
    "print(output.shape)"
   ]
  },
  {
   "cell_type": "markdown",
   "id": "633890a8",
   "metadata": {},
   "source": [
    "## Maxpooling"
   ]
  },
  {
   "cell_type": "code",
   "execution_count": 8,
   "id": "0a792b95",
   "metadata": {},
   "outputs": [
    {
     "name": "stdout",
     "output_type": "stream",
     "text": [
      "tensor([[[[4., 8.],\n",
      "          [9., 8.]]]])\n"
     ]
    }
   ],
   "source": [
    "input = [3,4,6,5,\n",
    "         2,4,6,8,\n",
    "         1,6,7,8,\n",
    "         9,7,4,6,\n",
    "        ]\n",
    "input = torch.Tensor(input).view(1, 1, 4, 4)\n",
    "\n",
    "maxpooling_layer = torch.nn.MaxPool2d(kernel_size=2)\n",
    "\n",
    "output = maxpooling_layer(input)\n",
    "print(output)"
   ]
  },
  {
   "cell_type": "markdown",
   "id": "9201f484",
   "metadata": {},
   "source": [
    "## homework"
   ]
  },
  {
   "cell_type": "code",
   "execution_count": 9,
   "id": "d4080210",
   "metadata": {},
   "outputs": [],
   "source": [
    "import torch\n",
    "from torchvision import transforms, datasets\n",
    "from torch.utils.data import DataLoader\n",
    "import torch.nn.functional as F\n",
    "import torch.optim as optim"
   ]
  },
  {
   "cell_type": "code",
   "execution_count": 10,
   "id": "602b761a",
   "metadata": {},
   "outputs": [],
   "source": [
    "batch_size = 64\n",
    "transform = transforms.Compose([\n",
    "    transforms.ToTensor(),\n",
    "    transforms.Normalize((0.1307,),(0.3081,))\n",
    "])\n",
    "\n",
    "train_dataset = datasets.MNIST(root='../dataset/mnist/',\n",
    "                               train=True,\n",
    "                               download=False, # True\n",
    "                               transform=transform)\n",
    "train_loader = DataLoader(train_dataset,\n",
    "                          shuffle=True,\n",
    "                          batch_size=batch_size)\n",
    "\n",
    "test_dataset = datasets.MNIST(root='../dataset/mnist/',\n",
    "                              train=False,\n",
    "                              download=False, # 第一次下载True\n",
    "                              transform=transform)\n",
    "test_loader = DataLoader(test_dataset,\n",
    "                         shuffle=False,\n",
    "                         batch_size=batch_size)"
   ]
  },
  {
   "cell_type": "code",
   "execution_count": 11,
   "id": "6ee5eff2",
   "metadata": {},
   "outputs": [],
   "source": [
    "class Net(torch.nn.Module):\n",
    "    def __init__(self):\n",
    "        super(Net,self).__init__()\n",
    "        self.conv1 = torch.nn.Conv2d(1, 10, kernel_size = 5)\n",
    "        self.conv2 = torch.nn.Conv2d(10, 20, kernel_size = 5)\n",
    "        self.pooling = torch.nn.MaxPool2d(2)\n",
    "        self.fc = torch.nn.Linear(320,10)\n",
    "    \n",
    "    def forward(self, x):\n",
    "        # Flatten data from (n, 1, 28, 28) to (n, 784)\n",
    "        batch_size = x.size(0)\n",
    "        x = F.relu(self.pooling(self.conv1(x)))\n",
    "        x = F.relu(self.pooling(self.conv2(x)))\n",
    "        x = x.view(batch_size, -1) # flatten\n",
    "        x = self.fc(x)\n",
    "        return x\n",
    "\n",
    "model = Net()"
   ]
  },
  {
   "cell_type": "code",
   "execution_count": 12,
   "id": "9cf9ed59",
   "metadata": {},
   "outputs": [],
   "source": [
    "criterion = torch.nn.CrossEntropyLoss() # 交叉熵损失\n",
    "optimizer = optim.SGD(model.parameters(), lr=0.01, momentum=0.5) #带有冲量，目的能冲过鞍面和部分局部最优"
   ]
  },
  {
   "cell_type": "code",
   "execution_count": 13,
   "id": "0b2cf9ac",
   "metadata": {},
   "outputs": [],
   "source": [
    "def train(epoch):\n",
    "    running_loss = 0.0\n",
    "    for batch_idx, data in enumerate(train_loader, 0):\n",
    "        inputs, target = data\n",
    "        optimizer.zero_grad()\n",
    "        \n",
    "        # forward + backward + update\n",
    "        outputs = model(inputs)\n",
    "        loss = criterion(outputs, target)\n",
    "        loss.backward()\n",
    "        optimizer.step()\n",
    "        \n",
    "        running_loss += loss.item()\n",
    "        if batch_idx % 300 == 299:\n",
    "            print('[%d, %5d] loss: %.3f' % (epoch + 1, batch_idx + 1, running_loss / 300))\n",
    "            running_loss = 0.0\n",
    "\n",
    "def test():\n",
    "    correct = 0\n",
    "    total = 0\n",
    "    with torch.no_grad():\n",
    "        for data in test_loader:\n",
    "            images, labels = data\n",
    "            outputs = model(images)\n",
    "            _, predicted = torch.max(outputs.data, dim=1) # predicted是一行最大值的下标,dim=1表示沿着列的维度\n",
    "            total += labels.size(0) # 当前batch里数据标签的数目，即batch_size\n",
    "            correct += (predicted == labels).sum().item() # 张量之间的比较运算\n",
    "    print('Accuracy on test set: %d %%' % (100 * correct / total))"
   ]
  },
  {
   "cell_type": "code",
   "execution_count": 14,
   "id": "c7272795",
   "metadata": {},
   "outputs": [
    {
     "name": "stdout",
     "output_type": "stream",
     "text": [
      "[1,   300] loss: 0.656\n",
      "[1,   600] loss: 0.184\n",
      "[1,   900] loss: 0.145\n",
      "Accuracy on test set: 96 %\n",
      "[2,   300] loss: 0.105\n",
      "[2,   600] loss: 0.101\n",
      "[2,   900] loss: 0.093\n",
      "Accuracy on test set: 97 %\n",
      "[3,   300] loss: 0.076\n",
      "[3,   600] loss: 0.075\n",
      "[3,   900] loss: 0.077\n",
      "Accuracy on test set: 97 %\n",
      "[4,   300] loss: 0.062\n",
      "[4,   600] loss: 0.062\n",
      "[4,   900] loss: 0.065\n",
      "Accuracy on test set: 98 %\n",
      "[5,   300] loss: 0.059\n",
      "[5,   600] loss: 0.056\n",
      "[5,   900] loss: 0.051\n",
      "Accuracy on test set: 98 %\n",
      "[6,   300] loss: 0.047\n",
      "[6,   600] loss: 0.051\n",
      "[6,   900] loss: 0.050\n",
      "Accuracy on test set: 98 %\n",
      "[7,   300] loss: 0.045\n",
      "[7,   600] loss: 0.046\n",
      "[7,   900] loss: 0.044\n",
      "Accuracy on test set: 98 %\n",
      "[8,   300] loss: 0.043\n",
      "[8,   600] loss: 0.041\n",
      "[8,   900] loss: 0.042\n",
      "Accuracy on test set: 98 %\n",
      "[9,   300] loss: 0.036\n",
      "[9,   600] loss: 0.038\n",
      "[9,   900] loss: 0.041\n",
      "Accuracy on test set: 98 %\n",
      "[10,   300] loss: 0.036\n",
      "[10,   600] loss: 0.034\n",
      "[10,   900] loss: 0.039\n",
      "Accuracy on test set: 98 %\n"
     ]
    }
   ],
   "source": [
    "if __name__ == '__main__':\n",
    "    for epoch in range(10):\n",
    "        train(epoch)\n",
    "        test()"
   ]
  },
  {
   "cell_type": "code",
   "execution_count": null,
   "id": "24e94c36",
   "metadata": {},
   "outputs": [],
   "source": []
  }
 ],
 "metadata": {
  "kernelspec": {
   "display_name": "Python 3 (ipykernel)",
   "language": "python",
   "name": "python3"
  },
  "language_info": {
   "codemirror_mode": {
    "name": "ipython",
    "version": 3
   },
   "file_extension": ".py",
   "mimetype": "text/x-python",
   "name": "python",
   "nbconvert_exporter": "python",
   "pygments_lexer": "ipython3",
   "version": "3.7.12"
  }
 },
 "nbformat": 4,
 "nbformat_minor": 5
}
